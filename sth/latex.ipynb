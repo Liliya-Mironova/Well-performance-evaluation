{
 "cells": [
  {
   "cell_type": "markdown",
   "metadata": {},
   "source": [
    "$g$ - gas, $L$ - liquid, $i$ - interface, $D$ - droplets\n",
    "\n",
    "$A$ - pipe cros-sectional area\n",
    "\n",
    "$V_x$ - volume fraction of the phase $x$\n",
    "\n",
    "$\\psi_g$ - mass-transfer rate between the phases\n",
    "\n",
    "$\\psi_e$, $\\psi_d$ - the entrainment and deposition rates\n",
    "\n",
    "$G_f$ - possible mass source of Phase $f$\n",
    "\n",
    "$\\alpha$ - pipe inclination with the vertical\n",
    "\n",
    "$S_x$ - wetted perimeters of the phase $x$"
   ]
  },
  {
   "cell_type": "code",
   "execution_count": null,
   "metadata": {},
   "outputs": [],
   "source": []
  },
  {
   "cell_type": "markdown",
   "metadata": {},
   "source": [
    "$Q = \\frac{2 \\pi kh}{\\mu \\log{\\frac{r_k}{r_w}}} (p_R - p_{wf})$\n",
    "\n",
    "$Q$ - liquid rate\n",
    "\n",
    "$k$ - formation permeability\n",
    "\n",
    "$h$ - formation thikess\n",
    "\n",
    "$p_R$ - reservoir pressure\n",
    "\n",
    "$p_{wf}$ - bottom-hole pressure\n",
    "\n",
    "$\\mu$ - fluid viscosity\n",
    "\n",
    "$r_k$ - drainage radius\n",
    "\n",
    "$r_w$ - wellbore radius\n",
    "\n",
    "$\\frac{dp}{dL} = (\\frac{dp}{dL})_{\\text{gravity}} + (\\frac{dp}{dL})_{\\text{friction}} + (\\frac{dp}{dL})_{\\text{kinetic}} = \\rho g \\sin{\\alpha} + f \\frac{\\rho v^2}{2d} + \\rho v \\frac{dv}{dL}$\n",
    "\n",
    "$\\alpha$ - pipe segment inclination\n",
    "\n",
    "$\\rho$ - liquid density\n",
    "\n",
    "$v$ - liquid velocity\n",
    "\n",
    "$d$ - pipe diameter\n",
    "\n",
    "$f$ - friction coefficient\n",
    "\n",
    "$dL$ - pipe segment"
   ]
  },
  {
   "cell_type": "code",
   "execution_count": null,
   "metadata": {},
   "outputs": [],
   "source": []
  },
  {
   "cell_type": "markdown",
   "metadata": {},
   "source": [
    "$\\text{CF} = \\text{Rev} - \\sum{S} = \\text{Rev} - (S_{\\text{oil}} + S_{\\text{liquid}} + S_{\\text{inj}}) = \\\\\n",
    "= Pq_{\\text{oil}} - (q_{\\text{oil}} C_{\\text{oil}} + q_{\\text{liquid}} C_{\\text{liquid}} + q_{\\text{liquid}} k_{\\text{comp}} C_{\\text{inj}} + S_{\\text{ESP}})$"
   ]
  },
  {
   "cell_type": "markdown",
   "metadata": {},
   "source": [
    "$\\text{CF}$ - well profitability\n",
    "\n",
    "$\\text{Rev}$ - revenue\n",
    "\n",
    "$\\sum{S}$ - sum of costs\n",
    "\n",
    "$S_{\\text{oil / liquid / inj}}$ - costs for {oil production and treatment} / {pumping liquid} / {water injection}\n",
    "\n",
    "$P$ - oil price including taxes\n",
    "\n",
    "$q_{\\text{oil / liquid}}$ - flow rate\n",
    "\n",
    "$C_{\\text{oil / liquid / inj}}$ - unit costs"
   ]
  },
  {
   "cell_type": "code",
   "execution_count": null,
   "metadata": {},
   "outputs": [],
   "source": []
  }
 ],
 "metadata": {
  "kernelspec": {
   "display_name": "Python 3",
   "language": "python",
   "name": "python3"
  },
  "language_info": {
   "codemirror_mode": {
    "name": "ipython",
    "version": 3
   },
   "file_extension": ".py",
   "mimetype": "text/x-python",
   "name": "python",
   "nbconvert_exporter": "python",
   "pygments_lexer": "ipython3",
   "version": "3.7.4"
  }
 },
 "nbformat": 4,
 "nbformat_minor": 2
}
